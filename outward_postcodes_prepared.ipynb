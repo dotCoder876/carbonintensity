{
 "cells": [
  {
   "cell_type": "code",
   "execution_count": 29,
   "metadata": {},
   "outputs": [],
   "source": [
    "import csv\n",
    "\n",
    "f1 = open(\"postcode_districts.csv\",\"r\") \n",
    "table = list(map(lambda x : x.strip().split(','), f1.readlines()))\n",
    "f2 = open(\"explicit_outward_postcodes.txt\")\n",
    "arr = set(list(map(lambda x : x.strip(), f2.readlines())))\n",
    "\n",
    "table2 = list(filter(lambda x : x[0] in arr, table))\n",
    "f3 = open(\"postcode_districts_filtered.csv\",\"w\")\n",
    "f3.write('\\n'.join(list(map(lambda x: ','.join(x), table2))))\n",
    "f3.close()"
   ]
  },
  {
   "cell_type": "code",
   "execution_count": null,
   "metadata": {},
   "outputs": [],
   "source": []
  },
  {
   "cell_type": "code",
   "execution_count": null,
   "metadata": {},
   "outputs": [],
   "source": []
  },
  {
   "cell_type": "code",
   "execution_count": null,
   "metadata": {},
   "outputs": [],
   "source": []
  }
 ],
 "metadata": {
  "kernelspec": {
   "display_name": "Python 3",
   "language": "python",
   "name": "python3"
  },
  "language_info": {
   "codemirror_mode": {
    "name": "ipython",
    "version": 3
   },
   "file_extension": ".py",
   "mimetype": "text/x-python",
   "name": "python",
   "nbconvert_exporter": "python",
   "pygments_lexer": "ipython3",
   "version": "3.7.4"
  }
 },
 "nbformat": 4,
 "nbformat_minor": 2
}
